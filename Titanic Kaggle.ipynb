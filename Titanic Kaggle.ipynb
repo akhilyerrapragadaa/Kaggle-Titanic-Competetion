{
 "cells": [
  {
   "cell_type": "code",
   "execution_count": 1,
   "metadata": {},
   "outputs": [],
   "source": [
    "import org.apache.spark.ml.feature.OneHotEncoderEstimator\n",
    "import org.apache.spark.ml.feature.StringIndexer\n",
    "import org.apache.spark.ml.feature.VectorAssembler\n",
    "import org.apache.spark.ml.{Pipeline, PipelineModel}\n",
    "import org.apache.spark.ml.feature.{IndexToString, VectorIndexer}\n",
    "import org.apache.spark.ml.PipelineStage\n",
    "import org.apache.spark.ml.classification.{RandomForestClassificationModel, RandomForestClassifier}\n",
    "import org.apache.spark.ml.evaluation.RegressionEvaluator\n",
    "import org.apache.spark.ml.tuning.{CrossValidator, ParamGridBuilder}\n",
    "import org.apache.spark.ml.evaluation.BinaryClassificationEvaluator"
   ]
  },
  {
   "cell_type": "code",
   "execution_count": 2,
   "metadata": {},
   "outputs": [
    {
     "name": "stdout",
     "output_type": "stream",
     "text": [
      "root\n",
      " |-- PassengerId: integer (nullable = true)\n",
      " |-- Pclass: integer (nullable = true)\n",
      " |-- Name: string (nullable = true)\n",
      " |-- Sex: string (nullable = true)\n",
      " |-- Age: double (nullable = true)\n",
      " |-- SibSp: integer (nullable = true)\n",
      " |-- Parch: integer (nullable = true)\n",
      " |-- Ticket: string (nullable = true)\n",
      " |-- Fare: double (nullable = true)\n",
      " |-- Cabin: string (nullable = true)\n",
      " |-- Embarked: string (nullable = true)\n",
      "\n"
     ]
    },
    {
     "data": {
      "text/plain": [
       "df2 = [PassengerId: int, Pclass: int ... 9 more fields]\n"
      ]
     },
     "metadata": {},
     "output_type": "display_data"
    },
    {
     "data": {
      "text/plain": [
       "[PassengerId: int, Pclass: int ... 9 more fields]"
      ]
     },
     "execution_count": 2,
     "metadata": {},
     "output_type": "execute_result"
    }
   ],
   "source": [
    "val df2 = spark.read.format(\"csv\").option(\"inferSchema\", \"true\").option(\"header\", \"true\").load(\"data/test.csv\")\n",
    "\n",
    "df2.printSchema()"
   ]
  },
  {
   "cell_type": "code",
   "execution_count": 3,
   "metadata": {},
   "outputs": [
    {
     "data": {
      "text/plain": [
       "df = [PassengerId: int, Survived: int ... 10 more fields]\n"
      ]
     },
     "metadata": {},
     "output_type": "display_data"
    },
    {
     "data": {
      "text/plain": [
       "[PassengerId: int, Survived: int ... 10 more fields]"
      ]
     },
     "execution_count": 3,
     "metadata": {},
     "output_type": "execute_result"
    }
   ],
   "source": [
    "val df = spark.read.format(\"csv\").option(\"inferSchema\", \"true\").option(\"header\", \"true\").load(\"data/train.csv\")"
   ]
  },
  {
   "cell_type": "code",
   "execution_count": 4,
   "metadata": {},
   "outputs": [
    {
     "name": "stdout",
     "output_type": "stream",
     "text": [
      "root\n",
      " |-- PassengerId: integer (nullable = true)\n",
      " |-- Survived: integer (nullable = true)\n",
      " |-- Pclass: integer (nullable = true)\n",
      " |-- Name: string (nullable = true)\n",
      " |-- Sex: string (nullable = true)\n",
      " |-- Age: double (nullable = true)\n",
      " |-- SibSp: integer (nullable = true)\n",
      " |-- Parch: integer (nullable = true)\n",
      " |-- Ticket: string (nullable = true)\n",
      " |-- Fare: double (nullable = true)\n",
      " |-- Cabin: string (nullable = true)\n",
      " |-- Embarked: string (nullable = true)\n",
      "\n"
     ]
    }
   ],
   "source": [
    "df.printSchema()"
   ]
  },
  {
   "cell_type": "code",
   "execution_count": 5,
   "metadata": {},
   "outputs": [
    {
     "name": "stdout",
     "output_type": "stream",
     "text": [
      "+-----------+--------+------+--------------------+------+----+-----+-----+----------------+-------+-----+--------+\n",
      "|PassengerId|Survived|Pclass|                Name|   Sex| Age|SibSp|Parch|          Ticket|   Fare|Cabin|Embarked|\n",
      "+-----------+--------+------+--------------------+------+----+-----+-----+----------------+-------+-----+--------+\n",
      "|          1|       0|     3|Braund, Mr. Owen ...|  male|22.0|    1|    0|       A/5 21171|   7.25| null|       S|\n",
      "|          2|       1|     1|Cumings, Mrs. Joh...|female|38.0|    1|    0|        PC 17599|71.2833|  C85|       C|\n",
      "|          3|       1|     3|Heikkinen, Miss. ...|female|26.0|    0|    0|STON/O2. 3101282|  7.925| null|       S|\n",
      "|          4|       1|     1|Futrelle, Mrs. Ja...|female|35.0|    1|    0|          113803|   53.1| C123|       S|\n",
      "|          5|       0|     3|Allen, Mr. Willia...|  male|35.0|    0|    0|          373450|   8.05| null|       S|\n",
      "+-----------+--------+------+--------------------+------+----+-----+-----+----------------+-------+-----+--------+\n",
      "only showing top 5 rows\n",
      "\n"
     ]
    }
   ],
   "source": [
    "df.show(5)"
   ]
  },
  {
   "cell_type": "code",
   "execution_count": 25,
   "metadata": {},
   "outputs": [
    {
     "data": {
      "text/plain": [
       "agemeanValue = 29.69911764705882\n",
       "faremeanValue = 32.2042079685746\n",
       "fixedDf = [PassengerId: int, Survived: int ... 10 more fields]\n",
       "reFixed = [PassengerId: int, Survived: int ... 10 more fields]\n",
       "new1 = 30.272590361445783\n",
       "new2 = 35.6271884892086\n",
       "fixedDf2 = [PassengerId: int, Pclass: int ... 9 more fields]\n",
       "test = [PassengerId: int, Pclass: int ... 9 more fields]\n"
      ]
     },
     "metadata": {},
     "output_type": "display_data"
    },
    {
     "data": {
      "text/plain": [
       "[PassengerId: int, Pclass: int ... 9 more fields]"
      ]
     },
     "execution_count": 25,
     "metadata": {},
     "output_type": "execute_result"
    }
   ],
   "source": [
    "import org.apache.spark.sql.functions._\n",
    "\n",
    "val agemeanValue = df.agg(mean(df(\"Age\"))).first.getDouble(0)\n",
    "\n",
    "val faremeanValue = df.agg(mean(df(\"Fare\"))).first.getDouble(0)\n",
    "\n",
    "val fixedDf = df.na.fill(agemeanValue, Array(\"Age\"))\n",
    "\n",
    "val reFixed = fixedDf.na.fill(faremeanValue, Array(\"Fare\"))\n",
    "\n",
    "\n",
    "val new1 = df2.agg(mean(df2(\"Age\"))).first.getDouble(0)\n",
    "\n",
    "val new2 = df2.agg(mean(df2(\"Fare\"))).first.getDouble(0)\n",
    "\n",
    "val fixedDf2 = df2.na.fill(agemeanValue, Array(\"Age\"))\n",
    "\n",
    "val test = fixedDf2.na.fill(faremeanValue, Array(\"Fare\"))\n"
   ]
  },
  {
   "cell_type": "code",
   "execution_count": 28,
   "metadata": {},
   "outputs": [
    {
     "data": {
      "text/plain": [
       "recvTrainData = [PassengerId: int, Survived: int ... 10 more fields]\n",
       "recvTestData = [PassengerId: int, Survived: int ... 10 more fields]\n",
       "trainingData = [PassengerId: int, label: int ... 10 more fields]\n",
       "testData = [PassengerId: int, label: int ... 10 more fields]\n"
      ]
     },
     "metadata": {},
     "output_type": "display_data"
    },
    {
     "data": {
      "text/plain": [
       "[PassengerId: int, label: int ... 10 more fields]"
      ]
     },
     "execution_count": 28,
     "metadata": {},
     "output_type": "execute_result"
    }
   ],
   "source": [
    "val Array(recvTrainData, recvTestData) = reFixed.randomSplit(Array(0.8, 0.2))\n",
    "\n",
    "val trainingData = reFixed.withColumnRenamed(\"Survived\", \"label\")\n",
    "\n",
    "val testData = recvTestData.withColumnRenamed(\"Survived\", \"label\")"
   ]
  },
  {
   "cell_type": "code",
   "execution_count": 50,
   "metadata": {},
   "outputs": [
    {
     "name": "stdout",
     "output_type": "stream",
     "text": [
      "+-----------+-----+------+--------------------+------+----+-----+-----+----------------+-------+-----+--------+\n",
      "|PassengerId|label|Pclass|                Name|   Sex| Age|SibSp|Parch|          Ticket|   Fare|Cabin|Embarked|\n",
      "+-----------+-----+------+--------------------+------+----+-----+-----+----------------+-------+-----+--------+\n",
      "|          1|    0|     3|Braund, Mr. Owen ...|  male|22.0|    1|    0|       A/5 21171|   7.25| null|       S|\n",
      "|          2|    1|     1|Cumings, Mrs. Joh...|female|38.0|    1|    0|        PC 17599|71.2833|  C85|       C|\n",
      "|          3|    1|     3|Heikkinen, Miss. ...|female|26.0|    0|    0|STON/O2. 3101282|  7.925| null|       S|\n",
      "|          4|    1|     1|Futrelle, Mrs. Ja...|female|35.0|    1|    0|          113803|   53.1| C123|       S|\n",
      "|          5|    0|     3|Allen, Mr. Willia...|  male|35.0|    0|    0|          373450|   8.05| null|       S|\n",
      "+-----------+-----+------+--------------------+------+----+-----+-----+----------------+-------+-----+--------+\n",
      "only showing top 5 rows\n",
      "\n"
     ]
    },
    {
     "data": {
      "text/plain": [
       "cols = Array(Sex, Pclass)\n",
       "stringIndexers = Array(Sex, Pclass)\n"
      ]
     },
     "metadata": {},
     "output_type": "display_data"
    },
    {
     "data": {
      "text/plain": [
       "Array(Sex, Pclass)"
      ]
     },
     "execution_count": 50,
     "metadata": {},
     "output_type": "execute_result"
    }
   ],
   "source": [
    "val cols = Array(\"Sex\", \"Pclass\")\n",
    "val stringIndexers = cols.map { eachCol =>\n",
    "  new StringIndexer(eachCol)\n",
    "    .setInputCol(eachCol)\n",
    "    .setOutputCol(eachCol + \"_Indexed\")\n",
    "    .fit(trainingData)\n",
    "}\n",
    "\n",
    "trainingData.show(5)"
   ]
  },
  {
   "cell_type": "code",
   "execution_count": 51,
   "metadata": {},
   "outputs": [
    {
     "data": {
      "text/plain": [
       "cols = Array(Fare, Age, SibSp, Parch, Pclass_Indexed, Sex_Indexed)\n",
       "assembler = vecAssembler_37d0ab86385f\n"
      ]
     },
     "metadata": {},
     "output_type": "display_data"
    },
    {
     "data": {
      "text/plain": [
       "vecAssembler_37d0ab86385f"
      ]
     },
     "execution_count": 51,
     "metadata": {},
     "output_type": "execute_result"
    }
   ],
   "source": [
    "val cols = Array(\"Fare\", \"Age\", \"SibSp\", \"Parch\", \"Pclass_Indexed\", \"Sex_Indexed\")\n",
    "val assembler = new VectorAssembler()\n",
    "  .setInputCols(cols)\n",
    "  .setOutputCol(\"Features\")"
   ]
  },
  {
   "cell_type": "code",
   "execution_count": 52,
   "metadata": {},
   "outputs": [
    {
     "data": {
      "text/plain": [
       "randomForest = rfc_c9a230751e1c\n"
      ]
     },
     "metadata": {},
     "output_type": "display_data"
    },
    {
     "data": {
      "text/plain": [
       "rfc_c9a230751e1c"
      ]
     },
     "execution_count": 52,
     "metadata": {},
     "output_type": "execute_result"
    }
   ],
   "source": [
    "val randomForest = new RandomForestClassifier()\n",
    "  .setLabelCol(\"label\")\n",
    "  .setFeaturesCol(\"Features\")"
   ]
  },
  {
   "cell_type": "code",
   "execution_count": 53,
   "metadata": {},
   "outputs": [
    {
     "data": {
      "text/plain": [
       "pipeline = pipeline_99ef5b0359b9\n"
      ]
     },
     "metadata": {},
     "output_type": "display_data"
    },
    {
     "data": {
      "text/plain": [
       "pipeline_99ef5b0359b9"
      ]
     },
     "execution_count": 53,
     "metadata": {},
     "output_type": "execute_result"
    }
   ],
   "source": [
    "val pipeline = new Pipeline().setStages((stringIndexers :+ assembler :+ randomForest ).toArray)"
   ]
  },
  {
   "cell_type": "code",
   "execution_count": 54,
   "metadata": {},
   "outputs": [
    {
     "data": {
      "text/plain": [
       "paramGrid = \n"
      ]
     },
     "metadata": {},
     "output_type": "display_data"
    },
    {
     "data": {
      "text/plain": [
       "Array({\n",
       "\trfc_c9a230751e1c-impurity: entropy,\n",
       "\trfc_c9a230751e1c-maxBins: 24,\n",
       "\trfc_c9a230751e1c-maxDepth: 4\n",
       "}, {\n",
       "\trfc_c9a230751e1c-impurity: gini,\n",
       "\trfc_c9a230751e1c-maxBins: 24,\n",
       "\trfc_c9a230751e1c-maxDepth: 4\n",
       "}, {\n",
       "\trfc_c9a230751e1c-impurity: entropy,\n",
       "\trfc_c9a230751e1c-maxBins: 29,\n",
       "\trfc_c9a230751e1c-maxDepth: 4\n",
       "}, {\n",
       "\trfc_c9a230751e1c-impurity: gini,\n",
       "\trfc_c9a230751e1c-maxBins: 29,\n",
       "\trfc_c9a230751e1c-maxDepth: 4\n",
       "}, {\n",
       "\trfc_c9a230751e1c-impurity: entropy,\n",
       "\trfc_c9a230751e1c-maxBins: 31,\n",
       "\trfc_c9a230751e1c-maxDepth: 4\n",
       "}, {\n",
       "\trfc_c9a230751e1c-impurity: gini,\n",
       "\trfc_c9a230751e1c-maxBins: 31,\n",
       "\trfc_c9a230751e1c-maxDepth: 4\n",
       "}, {\n",
       "\trfc_c9a230751e1c-impurity: entropy,\n",
       "\trfc_c9a230751e1c-maxBins: 24,\n",
       "\trfc_c9a230751e1c-maxDepth: 6\n",
       "}, {\n",
       "\trfc_c9a230751e1c-impu...\n"
      ]
     },
     "metadata": {},
     "output_type": "display_data"
    }
   ],
   "source": [
    "val paramGrid = new ParamGridBuilder()\n",
    "      .addGrid(randomForest.maxBins, Array(24, 29, 31))\n",
    "      .addGrid(randomForest.maxDepth, Array(4, 6, 8))\n",
    "      .addGrid(randomForest.impurity, Array(\"entropy\", \"gini\"))\n",
    "      .build()\n",
    "\n",
    "val evaluator = new BinaryClassificationEvaluator()\n",
    "        .setLabelCol(\"label\")\n",
    "\n",
    "val cv = new CrossValidator()\n",
    "      .setEstimator(pipeline)\n",
    "      .setEvaluator(evaluator)\n",
    "      .setEstimatorParamMaps(paramGrid)\n",
    "      .setNumFolds(10)\n",
    "\n",
    "    // train the model\n",
    "val crossValidatorModel = cv.fit(trainingData)"
   ]
  },
  {
   "cell_type": "code",
   "execution_count": 55,
   "metadata": {},
   "outputs": [
    {
     "data": {
      "text/plain": [
       "predictions = [PassengerId: int, label: int ... 16 more fields]\n",
       "accuracy = 0.9366197183098592\n"
      ]
     },
     "metadata": {},
     "output_type": "display_data"
    },
    {
     "data": {
      "text/plain": [
       "0.9366197183098592"
      ]
     },
     "execution_count": 55,
     "metadata": {},
     "output_type": "execute_result"
    }
   ],
   "source": [
    "val predictions = crossValidatorModel.transform(testData)\n",
    "\n",
    "val accuracy = evaluator.evaluate(predictions)\n"
   ]
  },
  {
   "cell_type": "code",
   "execution_count": 56,
   "metadata": {
    "scrolled": true
   },
   "outputs": [
    {
     "name": "stdout",
     "output_type": "stream",
     "text": [
      "root\n",
      " |-- PassengerId: integer (nullable = true)\n",
      " |-- label: integer (nullable = true)\n",
      " |-- Pclass: integer (nullable = true)\n",
      " |-- Name: string (nullable = true)\n",
      " |-- Sex: string (nullable = true)\n",
      " |-- Age: double (nullable = false)\n",
      " |-- SibSp: integer (nullable = true)\n",
      " |-- Parch: integer (nullable = true)\n",
      " |-- Ticket: string (nullable = true)\n",
      " |-- Fare: double (nullable = false)\n",
      " |-- Cabin: string (nullable = true)\n",
      " |-- Embarked: string (nullable = true)\n",
      " |-- Sex_Indexed: double (nullable = false)\n",
      " |-- Pclass_Indexed: double (nullable = false)\n",
      " |-- Features: vector (nullable = true)\n",
      " |-- rawPrediction: vector (nullable = true)\n",
      " |-- probability: vector (nullable = true)\n",
      " |-- prediction: double (nullable = false)\n",
      "\n"
     ]
    },
    {
     "data": {
      "text/plain": [
       "defined class Info\n"
      ]
     },
     "metadata": {},
     "output_type": "display_data"
    }
   ],
   "source": [
    "case class Info(PassengerId: String, label: String)\n",
    " \n",
    "predictions.printSchema()"
   ]
  },
  {
   "cell_type": "code",
   "execution_count": 57,
   "metadata": {
    "scrolled": true
   },
   "outputs": [
    {
     "ename": "Unknown Error",
     "evalue": "<console>:45: error: not found: value trainingData2\n       val model = pipeline.fit(trainingData2)\n                                ^\n",
     "output_type": "error",
     "traceback": []
    }
   ],
   "source": [
    "val model = pipeline.fit(trainingData2)\n",
    "\n",
    "val scoredDf = model.transform(test)\n",
    "\n",
    "val outputDf = scoredDf.select(\"PassengerId\", \"prediction\")\n",
    "\n",
    "val finalDF = outputDf.withColumnRenamed(\"prediction\", \"Survived\")\n",
    "\n",
    "finalDF.printSchema()"
   ]
  },
  {
   "cell_type": "code",
   "execution_count": 58,
   "metadata": {},
   "outputs": [
    {
     "ename": "Unknown Error",
     "evalue": "<console>:41: error: not found: value finalDF\n       val castedDf = finalDF.select(finalDF(\"PassengerId\"), finalDF(\"Survived\"))\n                      ^\n<console>:41: error: not found: value finalDF\n       val castedDf = finalDF.select(finalDF(\"PassengerId\"), finalDF(\"Survived\"))\n                                     ^\n<console>:41: error: not found: value finalDF\n       val castedDf = finalDF.select(finalDF(\"PassengerId\"), finalDF(\"Survived\"))\n                                                             ^\n",
     "output_type": "error",
     "traceback": []
    }
   ],
   "source": [
    "val castedDf = finalDF.select(finalDF(\"PassengerId\"), finalDF(\"Survived\"))   \n",
    "\n",
    "val df3 = castedDf.withColumn(\"Survived\", $\"Survived\" cast \"Int\" as \"Survived\")"
   ]
  },
  {
   "cell_type": "code",
   "execution_count": 59,
   "metadata": {
    "scrolled": true
   },
   "outputs": [
    {
     "ename": "Unknown Error",
     "evalue": "<console>:42: error: not found: value df3\n       df3.count()\n       ^\n",
     "output_type": "error",
     "traceback": []
    }
   ],
   "source": [
    "df3.count()"
   ]
  },
  {
   "cell_type": "code",
   "execution_count": 60,
   "metadata": {
    "scrolled": true
   },
   "outputs": [
    {
     "ename": "Unknown Error",
     "evalue": "<console>:42: error: not found: value df3\n       df3.coalesce(1)\n       ^\n",
     "output_type": "error",
     "traceback": []
    }
   ],
   "source": [
    "df3.coalesce(1)\n",
    "      .write\n",
    "      .option(\"header\",\"true\")\n",
    "      .option(\"sep\",\",\")\n",
    "      .mode(\"overwrite\")\n",
    "      .csv(\"op\")"
   ]
  },
  {
   "cell_type": "code",
   "execution_count": null,
   "metadata": {},
   "outputs": [],
   "source": []
  }
 ],
 "metadata": {
  "kernelspec": {
   "display_name": "Apache Toree - Scala",
   "language": "scala",
   "name": "apache_toree_scala"
  },
  "language_info": {
   "codemirror_mode": "text/x-scala",
   "file_extension": ".scala",
   "mimetype": "text/x-scala",
   "name": "scala",
   "pygments_lexer": "scala",
   "version": "2.11.12"
  }
 },
 "nbformat": 4,
 "nbformat_minor": 4
}
