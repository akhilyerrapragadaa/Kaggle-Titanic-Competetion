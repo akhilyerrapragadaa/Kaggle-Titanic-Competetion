{
 "cells": [
  {
   "cell_type": "code",
   "execution_count": 1,
   "metadata": {},
   "outputs": [
    {
     "data": {
      "text/plain": [
       "gender_submission = [PassengerId: int, Survived: int]\n"
      ]
     },
     "metadata": {},
     "output_type": "display_data"
    },
    {
     "data": {
      "text/plain": [
       "[PassengerId: int, Survived: int]"
      ]
     },
     "execution_count": 1,
     "metadata": {},
     "output_type": "execute_result"
    }
   ],
   "source": [
    "val gender_submission = spark.read.format(\"csv\").option(\"inferSchema\", \"true\").option(\"header\", \"true\").load(\"data/gender_submission.csv\")"
   ]
  },
  {
   "cell_type": "code",
   "execution_count": 74,
   "metadata": {},
   "outputs": [],
   "source": [
    "import org.apache.spark.ml.feature.OneHotEncoderEstimator\n",
    "import org.apache.spark.ml.feature.StringIndexer\n",
    "import org.apache.spark.ml.feature.VectorAssembler\n",
    "import org.apache.spark.ml.{Pipeline, PipelineModel}\n",
    "import org.apache.spark.ml.feature.{IndexToString, VectorIndexer}\n",
    "import org.apache.spark.ml.PipelineStage\n",
    "import org.apache.spark.ml.classification.{RandomForestClassificationModel, RandomForestClassifier}\n",
    "import org.apache.spark.ml.evaluation.RegressionEvaluator\n",
    "import org.apache.spark.ml.tuning.{CrossValidator, ParamGridBuilder}\n",
    "import org.apache.spark.ml.evaluation.BinaryClassificationEvaluator"
   ]
  },
  {
   "cell_type": "code",
   "execution_count": 75,
   "metadata": {},
   "outputs": [
    {
     "name": "stdout",
     "output_type": "stream",
     "text": [
      "root\n",
      " |-- PassengerId: integer (nullable = true)\n",
      " |-- Pclass: integer (nullable = true)\n",
      " |-- Name: string (nullable = true)\n",
      " |-- Sex: string (nullable = true)\n",
      " |-- Age: double (nullable = true)\n",
      " |-- SibSp: integer (nullable = true)\n",
      " |-- Parch: integer (nullable = true)\n",
      " |-- Ticket: string (nullable = true)\n",
      " |-- Fare: double (nullable = true)\n",
      " |-- Cabin: string (nullable = true)\n",
      " |-- Embarked: string (nullable = true)\n",
      "\n"
     ]
    },
    {
     "data": {
      "text/plain": [
       "test = [PassengerId: int, Pclass: int ... 9 more fields]\n"
      ]
     },
     "metadata": {},
     "output_type": "display_data"
    },
    {
     "data": {
      "text/plain": [
       "[PassengerId: int, Pclass: int ... 9 more fields]"
      ]
     },
     "execution_count": 75,
     "metadata": {},
     "output_type": "execute_result"
    }
   ],
   "source": [
    "val test = spark.read.format(\"csv\").option(\"inferSchema\", \"true\").option(\"header\", \"true\").load(\"data/test.csv\")\n",
    "\n",
    "test.printSchema()"
   ]
  },
  {
   "cell_type": "code",
   "execution_count": 76,
   "metadata": {},
   "outputs": [
    {
     "data": {
      "text/plain": [
       "df = [PassengerId: int, Survived: int ... 10 more fields]\n"
      ]
     },
     "metadata": {},
     "output_type": "display_data"
    },
    {
     "data": {
      "text/plain": [
       "[PassengerId: int, Survived: int ... 10 more fields]"
      ]
     },
     "execution_count": 76,
     "metadata": {},
     "output_type": "execute_result"
    }
   ],
   "source": [
    "val df = spark.read.format(\"csv\").option(\"inferSchema\", \"true\").option(\"header\", \"true\").load(\"data/train.csv\")"
   ]
  },
  {
   "cell_type": "code",
   "execution_count": 77,
   "metadata": {},
   "outputs": [
    {
     "name": "stdout",
     "output_type": "stream",
     "text": [
      "root\n",
      " |-- PassengerId: integer (nullable = true)\n",
      " |-- Survived: integer (nullable = true)\n",
      " |-- Pclass: integer (nullable = true)\n",
      " |-- Name: string (nullable = true)\n",
      " |-- Sex: string (nullable = true)\n",
      " |-- Age: double (nullable = true)\n",
      " |-- SibSp: integer (nullable = true)\n",
      " |-- Parch: integer (nullable = true)\n",
      " |-- Ticket: string (nullable = true)\n",
      " |-- Fare: double (nullable = true)\n",
      " |-- Cabin: string (nullable = true)\n",
      " |-- Embarked: string (nullable = true)\n",
      "\n"
     ]
    }
   ],
   "source": [
    "df.printSchema()"
   ]
  },
  {
   "cell_type": "code",
   "execution_count": 78,
   "metadata": {},
   "outputs": [
    {
     "name": "stdout",
     "output_type": "stream",
     "text": [
      "+-----------+--------+------+--------------------+------+----+-----+-----+----------------+-------+-----+--------+\n",
      "|PassengerId|Survived|Pclass|                Name|   Sex| Age|SibSp|Parch|          Ticket|   Fare|Cabin|Embarked|\n",
      "+-----------+--------+------+--------------------+------+----+-----+-----+----------------+-------+-----+--------+\n",
      "|          1|       0|     3|Braund, Mr. Owen ...|  male|22.0|    1|    0|       A/5 21171|   7.25| null|       S|\n",
      "|          2|       1|     1|Cumings, Mrs. Joh...|female|38.0|    1|    0|        PC 17599|71.2833|  C85|       C|\n",
      "|          3|       1|     3|Heikkinen, Miss. ...|female|26.0|    0|    0|STON/O2. 3101282|  7.925| null|       S|\n",
      "|          4|       1|     1|Futrelle, Mrs. Ja...|female|35.0|    1|    0|          113803|   53.1| C123|       S|\n",
      "|          5|       0|     3|Allen, Mr. Willia...|  male|35.0|    0|    0|          373450|   8.05| null|       S|\n",
      "+-----------+--------+------+--------------------+------+----+-----+-----+----------------+-------+-----+--------+\n",
      "only showing top 5 rows\n",
      "\n"
     ]
    }
   ],
   "source": [
    "df.show(5)"
   ]
  },
  {
   "cell_type": "code",
   "execution_count": 79,
   "metadata": {},
   "outputs": [
    {
     "data": {
      "text/plain": [
       "agemeanValue = 29.69911764705882\n",
       "faremeanValue = 32.2042079685746\n",
       "fixedDf = [PassengerId: int, Survived: int ... 10 more fields]\n",
       "reFixed = [PassengerId: int, Survived: int ... 10 more fields]\n"
      ]
     },
     "metadata": {},
     "output_type": "display_data"
    },
    {
     "data": {
      "text/plain": [
       "[PassengerId: int, Survived: int ... 10 more fields]"
      ]
     },
     "execution_count": 79,
     "metadata": {},
     "output_type": "execute_result"
    }
   ],
   "source": [
    "import org.apache.spark.sql.functions._\n",
    "\n",
    "val agemeanValue = df.agg(mean(df(\"Age\"))).first.getDouble(0)\n",
    "\n",
    "val faremeanValue = df.agg(mean(df(\"Fare\"))).first.getDouble(0)\n",
    "\n",
    "val fixedDf = df.na.fill(agemeanValue, Array(\"Age\"))\n",
    "\n",
    "val reFixed = fixedDf.na.fill(agemeanValue, Array(\"Fare\"))\n"
   ]
  },
  {
   "cell_type": "code",
   "execution_count": 48,
   "metadata": {},
   "outputs": [
    {
     "data": {
      "text/plain": [
       "trainingData = [PassengerId: int, Survived: int ... 10 more fields]\n",
       "testData = [PassengerId: int, Survived: int ... 10 more fields]\n"
      ]
     },
     "metadata": {},
     "output_type": "display_data"
    },
    {
     "data": {
      "text/plain": [
       "[PassengerId: int, Survived: int ... 10 more fields]"
      ]
     },
     "execution_count": 48,
     "metadata": {},
     "output_type": "execute_result"
    }
   ],
   "source": [
    "val Array(trainingData, testData) = reFixed.randomSplit(Array(0.7, 0.3))"
   ]
  },
  {
   "cell_type": "code",
   "execution_count": 85,
   "metadata": {},
   "outputs": [
    {
     "data": {
      "text/plain": [
       "featuresCatColNames = List(Pclass, Sex)\n",
       "stringIndexers = List(strIdx_925e72d1943e, strIdx_5bd5f1360b34)\n",
       "labelIndexer = strIdx_d0fe150ad733\n",
       "featuresNumColNames = List(Age, SibSp, Parch, Fare)\n",
       "indexedfeaturesCatColNames = List(PclassIndexed, SexIndexed)\n",
       "allIndexedFeaturesColNames = List(Age, SibSp, Parch, Fare, PclassIndexed, SexIndexed)\n",
       "assembler = vecAssembler_223a45bad371\n"
      ]
     },
     "metadata": {},
     "output_type": "display_data"
    },
    {
     "data": {
      "text/plain": [
       "vecAssembler_223a45bad371"
      ]
     },
     "execution_count": 85,
     "metadata": {},
     "output_type": "execute_result"
    }
   ],
   "source": [
    "//Indexing categorical fetures\n",
    "val featuresCatColNames = Seq(\"Pclass\", \"Sex\")\n",
    "val stringIndexers = featuresCatColNames.map { colName =>\n",
    "  new StringIndexer()\n",
    "    .setInputCol(colName)\n",
    "    .setOutputCol(colName + \"Indexed\")\n",
    "    .fit(trainingData)\n",
    "}\n",
    "\n",
    "\n",
    "//Indexing label\n",
    "val labelIndexer = new StringIndexer()\n",
    ".setInputCol(\"Survived\")\n",
    ".setOutputCol(\"SurvivedIndexed\")\n",
    ".fit(trainingData)\n",
    "\n",
    "val featuresNumColNames = Seq(\"Age\", \"SibSp\", \"Parch\", \"Fare\")\n",
    "val indexedfeaturesCatColNames = featuresCatColNames.map(_ + \"Indexed\")\n",
    "val allIndexedFeaturesColNames = featuresNumColNames ++ indexedfeaturesCatColNames\n",
    "val assembler = new VectorAssembler()\n",
    "  .setInputCols(Array(allIndexedFeaturesColNames: _*))\n",
    "  .setOutputCol(\"Features\")\n"
   ]
  },
  {
   "cell_type": "code",
   "execution_count": 86,
   "metadata": {},
   "outputs": [
    {
     "data": {
      "text/plain": [
       "randomForest = rfc_ee75c738638e\n",
       "labelConverter = idxToStr_76085f42583d\n"
      ]
     },
     "metadata": {},
     "output_type": "display_data"
    },
    {
     "data": {
      "text/plain": [
       "idxToStr_76085f42583d"
      ]
     },
     "execution_count": 86,
     "metadata": {},
     "output_type": "execute_result"
    }
   ],
   "source": [
    "val randomForest = new RandomForestClassifier()\n",
    "  .setLabelCol(\"SurvivedIndexed\")\n",
    "  .setFeaturesCol(\"Features\")\n",
    "\n",
    "//Retrieve original labels\n",
    "val labelConverter = new IndexToString()\n",
    "  .setInputCol(\"prediction\")\n",
    "  .setOutputCol(\"predictedLabel\")\n",
    "  .setLabels(labelIndexer.labels)"
   ]
  },
  {
   "cell_type": "code",
   "execution_count": 87,
   "metadata": {},
   "outputs": [
    {
     "data": {
      "text/plain": [
       "pipeline = pipeline_85662be05d38\n"
      ]
     },
     "metadata": {},
     "output_type": "display_data"
    },
    {
     "data": {
      "text/plain": [
       "pipeline_85662be05d38"
      ]
     },
     "execution_count": 87,
     "metadata": {},
     "output_type": "execute_result"
    }
   ],
   "source": [
    "// define the order of the operations to be performed\n",
    "val pipeline = new Pipeline().setStages(\n",
    "  (stringIndexers :+ labelIndexer :+ assembler :+ randomForest :+ labelConverter).toArray)\n"
   ]
  },
  {
   "cell_type": "code",
   "execution_count": 88,
   "metadata": {},
   "outputs": [
    {
     "data": {
      "text/plain": [
       "paramGrid = \n"
      ]
     },
     "metadata": {},
     "output_type": "display_data"
    },
    {
     "data": {
      "text/plain": [
       "Array({\n",
       "\trfc_ee75c738638e-impurity: entropy,\n",
       "\trfc_ee75c738638e-maxBins: 25,\n",
       "\trfc_ee75c738638e-maxDepth: 4\n",
       "}, {\n",
       "\trfc_ee75c738638e-impurity: entropy,\n",
       "\trfc_ee75c738638e-maxBins: 25,\n",
       "\trfc_ee75c738638e-maxDepth: 6\n",
       "}, {\n",
       "\trfc_ee75c738638e-impurity: entropy,\n",
       "\trfc_ee75c738638e-maxBins: 25,\n",
       "\trfc_ee75c738638e-maxDepth: 8\n",
       "}, {\n",
       "\trfc_ee75c738638e-impurity: gini,\n",
       "\trfc_ee75c738638e-maxBins: 25,\n",
       "\trfc_ee75c738638e-maxDepth: 4\n",
       "}, {\n",
       "\trfc_ee75c738638e-impurity: gini,\n",
       "\trfc_ee75c738638e-maxBins: 25,\n",
       "\trfc_ee75c738638e-maxDepth: 6\n",
       "}, {\n",
       "\trfc_ee75c738638e-impurity: gini,\n",
       "\trfc_ee75c738638e-maxBins: 25,\n",
       "\trfc_ee75c738638e-maxDepth: 8\n",
       "}, {\n",
       "\trfc_ee75c738638e-impurity: entropy,\n",
       "\trfc_ee75c738638e-maxBins: 28,\n",
       "\trfc_ee75c738638e-maxDepth: 4\n",
       "}, {\n",
       "\trfc_ee75c738638e-impu...\n"
      ]
     },
     "metadata": {},
     "output_type": "display_data"
    }
   ],
   "source": [
    " // grid of values to perform cross validation on\n",
    " val paramGrid = new ParamGridBuilder()\n",
    "      .addGrid(randomForest.maxBins, Array(25, 28, 31))\n",
    "      .addGrid(randomForest.maxDepth, Array(4, 6, 8))\n",
    "      .addGrid(randomForest.impurity, Array(\"entropy\", \"gini\"))\n",
    "      .build()\n",
    "\n",
    "val evaluator = new BinaryClassificationEvaluator()\n",
    "      .setLabelCol(\"SurvivedIndexed\")\n",
    "\n",
    "val cv = new CrossValidator()\n",
    "      .setEstimator(pipeline)\n",
    "      .setEvaluator(evaluator)\n",
    "      .setEstimatorParamMaps(paramGrid)\n",
    "      .setNumFolds(10)\n",
    "\n",
    "    // train the model\n",
    "val crossValidatorModel = cv.fit(trainingData)"
   ]
  },
  {
   "cell_type": "code",
   "execution_count": 89,
   "metadata": {},
   "outputs": [
    {
     "name": "stdout",
     "output_type": "stream",
     "text": [
      "Test Error DT= 0.12609173462895495\n"
     ]
    },
    {
     "data": {
      "text/plain": [
       "predictions = [PassengerId: int, Survived: int ... 18 more fields]\n",
       "accuracy = 0.873908265371045\n"
      ]
     },
     "metadata": {},
     "output_type": "display_data"
    },
    {
     "data": {
      "text/plain": [
       "0.873908265371045"
      ]
     },
     "execution_count": 89,
     "metadata": {},
     "output_type": "execute_result"
    }
   ],
   "source": [
    "// make predictions\n",
    "val predictions = crossValidatorModel.transform(testData)\n",
    "\n",
    "//Accuracy\n",
    "val accuracy = evaluator.evaluate(predictions)\n",
    "println(\"Test Error DT= \" + (1.0 - accuracy))\n"
   ]
  },
  {
   "cell_type": "code",
   "execution_count": null,
   "metadata": {},
   "outputs": [],
   "source": []
  }
 ],
 "metadata": {
  "kernelspec": {
   "display_name": "Apache Toree - Scala",
   "language": "scala",
   "name": "apache_toree_scala"
  },
  "language_info": {
   "codemirror_mode": "text/x-scala",
   "file_extension": ".scala",
   "mimetype": "text/x-scala",
   "name": "scala",
   "pygments_lexer": "scala",
   "version": "2.11.12"
  }
 },
 "nbformat": 4,
 "nbformat_minor": 4
}
